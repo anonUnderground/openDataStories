{
 "cells": [
  {
   "cell_type": "code",
   "execution_count": 1,
   "metadata": {},
   "outputs": [
    {
     "name": "stdout",
     "output_type": "stream",
     "text": [
      "Data saved to ../../data/raw\\metro_bike_trips.json\n",
      "Data saved to ../../data/raw\\metro_bike_kiosks.json\n"
     ]
    }
   ],
   "source": [
    "import requests\n",
    "import json\n",
    "import os\n",
    "\n",
    "# Function to fetch and save data\n",
    "def fetch_and_save_data(url, filename):\n",
    "    response = requests.get(url)\n",
    "    if response.status_code == 200:\n",
    "        data = response.json()\n",
    "    else:\n",
    "        print(f\"Failed to retrieve data from {url}\")\n",
    "        data = []\n",
    "\n",
    "    # Corrected file path to save in data/raw/files\n",
    "    file_path = os.path.join(\"../../data/raw\", filename)\n",
    "    os.makedirs(os.path.dirname(file_path), exist_ok=True)  # Ensure directory exists\n",
    "    with open(file_path, \"w\") as file:\n",
    "        json.dump(data, file)\n",
    "\n",
    "    print(f\"Data saved to {file_path}\")\n",
    "\n",
    "# URLs for the datasets\n",
    "trip_data_url = \"https://data.austintexas.gov/resource/tyfh-5r8s.json\"\n",
    "kiosk_data_url = \"https://data.austintexas.gov/resource/qd73-bsdg.json\"\n",
    "\n",
    "# Fetch and save MetroBike Trips data\n",
    "fetch_and_save_data(trip_data_url, \"metro_bike_trips.json\")\n",
    "\n",
    "# Fetch and save MetroBike Kiosk data\n",
    "fetch_and_save_data(kiosk_data_url, \"metro_bike_kiosks.json\")"
   ]
  }
 ],
 "metadata": {
  "kernelspec": {
   "display_name": "Python 3",
   "language": "python",
   "name": "python3"
  },
  "language_info": {
   "codemirror_mode": {
    "name": "ipython",
    "version": 3
   },
   "file_extension": ".py",
   "mimetype": "text/x-python",
   "name": "python",
   "nbconvert_exporter": "python",
   "pygments_lexer": "ipython3",
   "version": "3.11.0"
  }
 },
 "nbformat": 4,
 "nbformat_minor": 2
}
